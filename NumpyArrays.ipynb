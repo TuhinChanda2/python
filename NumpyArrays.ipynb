{
 "cells": [
  {
   "cell_type": "code",
   "execution_count": 5,
   "metadata": {},
   "outputs": [
    {
     "name": "stdout",
     "output_type": "stream",
     "text": [
      "[1 2 3 4 5 6]\n",
      "<class 'numpy.ndarray'>\n",
      "6\n"
     ]
    }
   ],
   "source": [
    "import numpy as np\n",
    "array_1=np.array([1,2,3,4,5,6])\n",
    "print(array_1)\n",
    "print(type(array_1))\n",
    "print(len(array_1))\n"
   ]
  },
  {
   "cell_type": "code",
   "execution_count": 9,
   "metadata": {},
   "outputs": [
    {
     "name": "stdout",
     "output_type": "stream",
     "text": [
      "Final Array =>  [1, 2, 3]\n",
      "Ascending Order =>  [1, 2, 3]\n",
      "Descending Order =>  [3, 2, 1] <class 'list'>\n",
      "[3 2 1] <class 'numpy.ndarray'>\n"
     ]
    }
   ],
   "source": [
    "import numpy as nsec\n",
    "class UserInputList:\n",
    "    def main():\n",
    "        array_1=[]\n",
    "        n=int(input(\"Enter the no. of array elements => \"))\n",
    "        for x in range(0,n):\n",
    "            y=int(input(\"Enter the array element -> \"))\n",
    "            array_1.append(y)\n",
    "        print(\"Final Array => \",array_1)\n",
    "        array_1.sort()\n",
    "        print(\"Ascending Order => \",array_1)\n",
    "        array_1.sort(reverse=True)\n",
    "        print(\"Descending Order => \",array_1,type(array_1))\n",
    "        array_1=nsec.array(array_1)\n",
    "        print(array_1,type(array_1))\n",
    "UserInputList.main()"
   ]
  },
  {
   "cell_type": "code",
   "execution_count": 20,
   "metadata": {},
   "outputs": [
    {
     "name": "stdout",
     "output_type": "stream",
     "text": [
      "[12 19 12 13 10 17 12 15 12 12]\n"
     ]
    }
   ],
   "source": [
    "import numpy as np\n",
    "import random\n",
    "xyz=np.random.randint(10,20,10)\n",
    "print(xyz)\n"
   ]
  },
  {
   "cell_type": "code",
   "execution_count": 29,
   "metadata": {},
   "outputs": [
    {
     "name": "stdout",
     "output_type": "stream",
     "text": [
      "1\n",
      "2\n",
      "3\n",
      "(2, 2, 3)\n",
      "20\n"
     ]
    }
   ],
   "source": [
    "import numpy as np\n",
    "array_1=np.array([1,2,3,4,5])\n",
    "array_2=np.array([[1,2,3],[4,5,6]])\n",
    "array_3=np.array([[[1,2,3],[4,5,6]],[[10,11,12],[18,19,20]]])\n",
    "print(array_1.ndim)\n",
    "print(array_2.ndim)\n",
    "print(array_3.ndim)\n",
    "z=np.shape(array_3)\n",
    "print(z)\n",
    "print(array_3[1,1,2])\n",
    "\n"
   ]
  },
  {
   "cell_type": "code",
   "execution_count": 4,
   "metadata": {},
   "outputs": [
    {
     "name": "stdout",
     "output_type": "stream",
     "text": [
      "Please give the entries row-wise:\n",
      "2 \n",
      "3 \n",
      "4 \n",
      "5 \n",
      "6 \n",
      "7 \n",
      "8 \n",
      "9 \n",
      "10 \n",
      "11 \n",
      "12 \n",
      "13 \n",
      "\n",
      "\n",
      "-------3D ARRAY FINAL--------\n",
      "[[[ 2  3  4]\n",
      "  [ 5  6  7]]\n",
      "\n",
      " [[ 8  9 10]\n",
      "  [11 12 13]]]\n",
      "3\n"
     ]
    }
   ],
   "source": [
    "import numpy as np\n",
    "Rows = int(input(\"Give the number of rows:\"))\n",
    "Columns = int(input(\"Give the number of columns:\"))\n",
    "\n",
    "# Initializing the matrix\n",
    "example_matrix = []\n",
    "\n",
    "print(\"Please give the entries row-wise:\")\n",
    "\n",
    "# For user input\n",
    "for _ in range(Rows):  # This for loop is to arrange rows\n",
    "    r = []\n",
    "    for __ in range(Columns):  # This for loop is to arrange columns\n",
    "        r.append(int(input()))\n",
    "    example_matrix.append(r)\n",
    "\n",
    "# PPrintingrinting the matrix given by user\n",
    "for _ in range(Rows):\n",
    "    for __ in range(Columns):\n",
    "        print(example_matrix[_][__], end=\" \")\n",
    "    print()\n",
    "# print(example_matrix.ndim)\n",
    "arr_3=np.array(example_matrix)\n",
    "arr_4=arr_3.reshape(2,2,3)\n",
    "print(\"\\n\\n-------3D ARRAY FINAL--------\")\n",
    "print(arr_4)\n",
    "print(arr_4.ndim)"
   ]
  },
  {
   "cell_type": "code",
   "execution_count": 5,
   "metadata": {},
   "outputs": [
    {
     "name": "stdout",
     "output_type": "stream",
     "text": [
      "Original Array ->  [ 1  2  3  4  5  6  7  8  6 10]\n",
      "Split Array ->  [array([1, 2, 3, 4]), array([5, 6, 7]), array([ 8,  6, 10])]\n"
     ]
    }
   ],
   "source": [
    "import numpy as np\n",
    "class ArraySplit:\n",
    "    def NumpyArray_Split():\n",
    "        arr_1=[]\n",
    "        n=int(input(\"No. of array elements -> \"))\n",
    "        for x in range(0,n):\n",
    "            y=int(input(\"Enter array element -> \"))\n",
    "            arr_1.append(y)\n",
    "        arr_1=np.array(arr_1)\n",
    "        print(\"Original Array -> \",arr_1)\n",
    "        arr_2=np.array_split(arr_1,3)\n",
    "        print(\"Split Array -> \",arr_2)\n",
    "ArraySplit.NumpyArray_Split()"
   ]
  }
 ],
 "metadata": {
  "kernelspec": {
   "display_name": "base",
   "language": "python",
   "name": "python3"
  },
  "language_info": {
   "codemirror_mode": {
    "name": "ipython",
    "version": 3
   },
   "file_extension": ".py",
   "mimetype": "text/x-python",
   "name": "python",
   "nbconvert_exporter": "python",
   "pygments_lexer": "ipython3",
   "version": "3.9.13"
  },
  "orig_nbformat": 4
 },
 "nbformat": 4,
 "nbformat_minor": 2
}
